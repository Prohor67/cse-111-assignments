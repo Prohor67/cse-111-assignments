{
  "nbformat": 4,
  "nbformat_minor": 0,
  "metadata": {
    "colab": {
      "provenance": []
    },
    "kernelspec": {
      "name": "python3",
      "display_name": "Python 3"
    },
    "language_info": {
      "name": "python"
    }
  },
  "cells": [
    {
      "cell_type": "code",
      "execution_count": null,
      "metadata": {
        "colab": {
          "base_uri": "https://localhost:8080/"
        },
        "id": "GkBTlKMK8u_-",
        "outputId": "c55cfca2-faa0-45e5-a8b9-b425c4ef77c7"
      },
      "outputs": [
        {
          "output_type": "stream",
          "name": "stdout",
          "text": [
            "Integer\n",
            "1234\n",
            "=====================\n",
            "String\n",
            "Hello\n",
            "=====================\n",
            "Float\n",
            "4.0\n"
          ]
        }
      ],
      "source": [
        "#TASK01\n",
        "class DataType :\n",
        "  def __init__(self,name,value):\n",
        "    self.name = name\n",
        "    self.value = value\n",
        "\n",
        "data_type1 = DataType(\"Integer\", 1234)\n",
        "print(data_type1.name)\n",
        "print(data_type1.value)\n",
        "print('=====================')\n",
        "data_type2 = DataType(\"String\", \"Hello\")\n",
        "print(data_type2.name)\n",
        "print(data_type2.value)\n",
        "print('=====================')\n",
        "data_type3 = DataType(\"Float\", 4.0)\n",
        "print(data_type3.name)\n",
        "print(data_type3.value)\n",
        "\n"
      ]
    },
    {
      "cell_type": "code",
      "source": [
        "#TASK02\n",
        "class Joker :\n",
        "  def __init__(self,name,power,is_he_psycho):\n",
        "    self.name = name\n",
        "    self.power = power\n",
        "    self.is_he_psycho = is_he_psycho\n",
        "\n",
        "\n",
        "j1 = Joker('Heath Ledger', 'Mind Game', False)\n",
        "print(j1.name)\n",
        "print(j1.power)\n",
        "print(j1.is_he_psycho)\n",
        "print(\"====================\")\n",
        "j2 = Joker('Joaquin Phoenix', 'Laughing out Loud', True)\n",
        "print(j2.name)\n",
        "print(j2.power)\n",
        "print(j2.is_he_psycho)\n",
        "print(\"=====================\")\n",
        "if j1 == j2:\n",
        "    print('same')\n",
        "else:\n",
        "    print('different')\n",
        "j2.name = 'Heath Ledger'\n",
        "if j1.name == j2.name:\n",
        "    print('same')\n",
        "else:\n",
        "    print('different')\n",
        "\n",
        "print()\n",
        "print()\n",
        "print(\"ANS. TO THE QUESTION 2\\nThe first if/else block prints the output as ‘different’ because,in that section I put a condition if the objects are equal or same. But the objects were not same\")\n",
        "print()\n",
        "print()\n",
        "print(\"ANS. TO THE QUESTION 3\\nThe first if/else block prints the output as ‘same’ because,in that section I put a condition if the parameter of the objects are equal or same. That parameter of objects were same\")\n"
      ],
      "metadata": {
        "colab": {
          "base_uri": "https://localhost:8080/"
        },
        "id": "8hxS1uYV9XLN",
        "outputId": "29b2c868-d12b-49bc-cf4c-9ba25d3ebaed"
      },
      "execution_count": null,
      "outputs": [
        {
          "output_type": "stream",
          "name": "stdout",
          "text": [
            "Heath Ledger\n",
            "Mind Game\n",
            "False\n",
            "====================\n",
            "Joaquin Phoenix\n",
            "Laughing out Loud\n",
            "True\n",
            "=====================\n",
            "different\n",
            "same\n",
            "\n",
            "\n",
            "ANS. TO THE QUESTION 2\n",
            "The first if/else block prints the output as ‘different’ because,in that section I put a condition if the objects are equal or same. But the objects were not same\n",
            "\n",
            "\n",
            "ANS. TO THE QUESTION 3\n",
            "The first if/else block prints the output as ‘same’ because,in that section I put a condition if the parameter of the objects are equal or same. That parameter of objects were same\n"
          ]
        }
      ]
    },
    {
      "cell_type": "code",
      "source": [
        "#TASK03\n",
        "\n",
        "class Pokemon:\n",
        "  def __init__(self,pokemon1,pokemon2_name,pokemon1_power,pokemon2_power,damage_rate):\n",
        "    self.pokemon1_name = pokemon1\n",
        "    self.pokemon2_name = pokemon2_name\n",
        "    self.pokemon1_power = pokemon1_power\n",
        "    self.pokemon2_power = pokemon2_power\n",
        "    self.damage_rate = damage_rate\n",
        "\n",
        "team_pika = Pokemon('pikachu', 'charmander', 90, 60, 10)\n",
        "print('=======Team 1=======')\n",
        "print('Pokemon 1:',team_pika.pokemon1_name, team_pika.pokemon1_power)\n",
        "print('Pokemon 2:',team_pika.pokemon2_name, team_pika.pokemon2_power)\n",
        "pika_combined_power = (team_pika.pokemon1_power + team_pika.pokemon2_power) * team_pika.damage_rate\n",
        "print('Combined Power:', pika_combined_power)\n",
        "team_bulb = Pokemon(\"bulbasaur\", \"squirtle\", 80, 70, 9 )\n",
        "print('=======Team 2=======')\n",
        "print('Pokemon 1:',team_bulb.pokemon1_name, team_bulb.pokemon1_power)\n",
        "print('Pokemon 2:',team_bulb.pokemon2_name, team_bulb.pokemon2_power)\n",
        "pika_combined_power = (team_bulb.pokemon1_power + team_bulb.pokemon2_power) * team_bulb.damage_rate\n",
        "print('Combined Power:', pika_combined_power)\n",
        "\n",
        "\n"
      ],
      "metadata": {
        "colab": {
          "base_uri": "https://localhost:8080/"
        },
        "id": "ONB6XuJJ-PKK",
        "outputId": "c5dd91f6-8ad9-40f5-fc28-37a3645aae7b"
      },
      "execution_count": null,
      "outputs": [
        {
          "output_type": "stream",
          "name": "stdout",
          "text": [
            "=======Team 1=======\n",
            "Pokemon 1: pikachu 90\n",
            "Pokemon 2: charmander 60\n",
            "Combined Power: 1500\n",
            "=======Team 2=======\n",
            "Pokemon 1: bulbasaur 80\n",
            "Pokemon 2: squirtle 70\n",
            "Combined Power: 1350\n"
          ]
        }
      ]
    },
    {
      "cell_type": "code",
      "source": [
        "#TASK04\n",
        "\n",
        "class Country:\n",
        "  def __init__(self,name = \"Bangladesh\",continent = \"Asia\",capital = \"Dhaka\",fifa_ranking = 187):\n",
        "    self.name = name\n",
        "    self.continent = continent\n",
        "    self.capital = capital\n",
        "    self.fifa_ranking = fifa_ranking\n",
        "\n",
        "\n",
        "country = Country()\n",
        "print('Name:',country.name)\n",
        "print('Continent:',country.continent)\n",
        "print('Capital:',country.capital)\n",
        "print('Fifa Ranking:',country.fifa_ranking)\n",
        "print('===================')\n",
        "country.name = \"Belgium\"\n",
        "country.continent = \"Europe\"\n",
        "country.capital = \"Brussels\"\n",
        "country.fifa_ranking = 1\n",
        "print('Name:',country.name)\n",
        "print('Continent:',country.continent)\n",
        "print('Capital:',country.capital)\n",
        "print('Fifa Ranking:',country.fifa_ranking)\n"
      ],
      "metadata": {
        "colab": {
          "base_uri": "https://localhost:8080/"
        },
        "id": "Xnz_oWCtMAq2",
        "outputId": "a421be0b-05e5-464c-fd03-119fb44eebaf"
      },
      "execution_count": null,
      "outputs": [
        {
          "output_type": "stream",
          "name": "stdout",
          "text": [
            "Name: Bangladesh\n",
            "Continent: Asia\n",
            "Capital: Dhaka\n",
            "Fifa Ranking: 187\n",
            "===================\n",
            "Name: Belgium\n",
            "Continent: Europe\n",
            "Capital: Brussels\n",
            "Fifa Ranking: 1\n"
          ]
        }
      ]
    },
    {
      "cell_type": "code",
      "source": [
        "#TASK05\n",
        "\n",
        "class DemonSlayer:\n",
        "  def __init__(self,name,style,number_of_technique,kill):\n",
        "    self.name = name\n",
        "    self.style = style\n",
        "    self.number_of_technique = number_of_technique\n",
        "    self.kill = kill\n",
        "\n",
        "tanjiro = DemonSlayer(\"Tanjiro\", \"Water Breathing\", 10, 10)\n",
        "print('Name:',tanjiro.name)\n",
        "print('Fighting Style:',tanjiro.style)\n",
        "print(f'Knows {tanjiro.number_of_technique} technique(s) and has killed {tanjiro.kill} demon(s)')\n",
        "print('===================')\n",
        "zenitsu = DemonSlayer(\"Zenitsu\", \"Thunder Breathing\", 1, 4)\n",
        "print('Name:',zenitsu.name)\n",
        "print('Fighting Style:',zenitsu.style)\n",
        "print(f'Knows {zenitsu.number_of_technique} technique(s) and has killed {zenitsu.kill} demon(s)')\n",
        "print('===================')\n",
        "inosuke = DemonSlayer(\"Inosuke\", \"Beast Breathing\", 5, 7)\n",
        "print('Name:',inosuke.name)\n",
        "print('Fighting Style:',inosuke.style)\n",
        "print(f'Knows {inosuke.number_of_technique} technique(s) and has killed {inosuke.kill} demon(s)')\n",
        "print('===================')\n",
        "print(f'{tanjiro.name}, {zenitsu.name}, {inosuke.name} knows total {tanjiro.number_of_technique + zenitsu.number_of_technique + inosuke.number_of_technique} techniques')\n",
        "print(f'They have killed total {tanjiro.kill + zenitsu.kill + inosuke.kill} demons')\n"
      ],
      "metadata": {
        "colab": {
          "base_uri": "https://localhost:8080/"
        },
        "id": "XhjZw7xPM4lQ",
        "outputId": "11e0c20d-a2d7-43a8-d2c3-c6c354005989"
      },
      "execution_count": null,
      "outputs": [
        {
          "output_type": "stream",
          "name": "stdout",
          "text": [
            "Name: Tanjiro\n",
            "Fighting Style: Water Breathing\n",
            "Knows 10 technique(s) and has killed 10 demon(s)\n",
            "===================\n",
            "Name: Zenitsu\n",
            "Fighting Style: Thunder Breathing\n",
            "Knows 1 technique(s) and has killed 4 demon(s)\n",
            "===================\n",
            "Name: Inosuke\n",
            "Fighting Style: Beast Breathing\n",
            "Knows 5 technique(s) and has killed 7 demon(s)\n",
            "===================\n",
            "Tanjiro, Zenitsu, Inosuke knows total 16 techniques\n",
            "They have killed total 21 demons\n"
          ]
        }
      ]
    },
    {
      "cell_type": "code",
      "source": [
        "#TASK06\n",
        "class box:\n",
        "  def __init__(self,given):\n",
        "    self.height = given[0]\n",
        "    self.width = given[1]\n",
        "    self.breadth = given[2]\n",
        "\n",
        "    area = 1\n",
        "    for i in given: area = area*i\n",
        "\n",
        "    print(\"Creating a Box!\")\n",
        "    print(f\"Volume of the box is {area} cubic units.\")\n",
        "\n",
        "print(\"Box 1\")\n",
        "b1 = box([10,10,10])\n",
        "print(\"=========================\")\n",
        "print(\"Height:\", b1.height)\n",
        "print(\"Width:\", b1.width)\n",
        "print(\"Breadth:\", b1.breadth)\n",
        "print(\"-------------------------\")\n",
        "print(\"Box 2\")\n",
        "b2 = box((30,10,10))\n",
        "print(\"=========================\")\n",
        "print(\"Height:\", b2.height)\n",
        "print(\"Width:\", b2.width)\n",
        "print(\"Breadth:\", b2.breadth)\n",
        "b2.height = 300\n",
        "print(\"Updating Box 2!\")\n",
        "print(\"Height:\", b2.height)\n",
        "print(\"Width:\", b2.width)\n",
        "print(\"Breadth:\", b2.breadth)\n",
        "print(\"-------------------------\")\n",
        "print(\"Box 3\")\n",
        "b3 = b2\n",
        "print(\"Height:\", b3.height)\n",
        "print(\"Width:\", b3.width)\n",
        "print(\"Breadth:\", b3.breadth)\n"
      ],
      "metadata": {
        "colab": {
          "base_uri": "https://localhost:8080/"
        },
        "id": "87wKWeezOBZy",
        "outputId": "629f1d18-2230-4a3c-db4c-92d65192d2d9"
      },
      "execution_count": null,
      "outputs": [
        {
          "output_type": "stream",
          "name": "stdout",
          "text": [
            "Box 1\n",
            "Creating a Box!\n",
            "Volume of the box is 1000 cubic units.\n",
            "=========================\n",
            "Height: 10\n",
            "Width: 10\n",
            "Breadth: 10\n",
            "-------------------------\n",
            "Box 2\n",
            "Creating a Box!\n",
            "Volume of the box is 3000 cubic units.\n",
            "=========================\n",
            "Height: 30\n",
            "Width: 10\n",
            "Breadth: 10\n",
            "Updating Box 2!\n",
            "Height: 300\n",
            "Width: 10\n",
            "Breadth: 10\n",
            "-------------------------\n",
            "Box 3\n",
            "Height: 300\n",
            "Width: 10\n",
            "Breadth: 10\n"
          ]
        }
      ]
    },
    {
      "cell_type": "code",
      "source": [
        "#TASK07\n",
        "class buttons:\n",
        "  def __init__(self,word,spaces,border):\n",
        "    self.word = word\n",
        "    self.spaces = spaces\n",
        "    self.border = border\n",
        "    print(f\"{word} Button Specifications:\")\n",
        "    print(f\"Button name: {word}\")\n",
        "    print(f\"Number of the border characters for the top and the bottom: {buttons.calc(self)} \")\n",
        "    print(f\"Number of spaces between the left side border and the first character of the button name:{spaces}\")\n",
        "    print(f\"Number of spaces between the left side border and the first character of the button name:{spaces}\")\n",
        "    print(f\"Characters representing the borders: {border}\")\n",
        "\n",
        "    buttons.printing(self)\n",
        "\n",
        "  def printing(self):\n",
        "    for i in range(buttons.calc(self)):\n",
        "      print(self.border,end=\"\")\n",
        "    print()\n",
        "    print(self.border,end=\"\")\n",
        "    for i in range(self.spaces):\n",
        "      print(\" \",end=\"\")\n",
        "    print(self.word,end=\"\")\n",
        "    for i in range(self.spaces):\n",
        "      print(\" \",end=\"\")\n",
        "    print(self.border)\n",
        "    for i in range(buttons.calc(self)):\n",
        "      print(self.border,end=\"\")\n",
        "    print()\n",
        "\n",
        "  def calc(self):\n",
        "    return (self.spaces*2)+len(self.word)+2\n",
        "\n",
        "\n",
        "word = \"CANCEL\"\n",
        "spaces = 10\n",
        "border = 'x'\n",
        "b1 = buttons(word, spaces, border)\n",
        "print(\"=======================================================\")\n",
        "b2 = buttons(\"Notify\",3, '!')\n",
        "print(\"=======================================================\")\n",
        "b3 = buttons('SAVE PROGRESS', 5, '$')\n"
      ],
      "metadata": {
        "id": "o1fivPuzJugl",
        "colab": {
          "base_uri": "https://localhost:8080/"
        },
        "outputId": "8c2aa3d6-dcf6-45c6-98d6-cf98e02b808b"
      },
      "execution_count": null,
      "outputs": [
        {
          "output_type": "stream",
          "name": "stdout",
          "text": [
            "CANCEL Button Specifications:\n",
            "Button name: CANCEL\n",
            "Number of the border characters for the top and the bottom: 28 \n",
            "Number of spaces between the left side border and the first character of the button name:10\n",
            "Number of spaces between the left side border and the first character of the button name:10\n",
            "Characters representing the borders: x\n",
            "xxxxxxxxxxxxxxxxxxxxxxxxxxxx\n",
            "x          CANCEL          x\n",
            "xxxxxxxxxxxxxxxxxxxxxxxxxxxx\n",
            "=======================================================\n",
            "Notify Button Specifications:\n",
            "Button name: Notify\n",
            "Number of the border characters for the top and the bottom: 14 \n",
            "Number of spaces between the left side border and the first character of the button name:3\n",
            "Number of spaces between the left side border and the first character of the button name:3\n",
            "Characters representing the borders: !\n",
            "!!!!!!!!!!!!!!\n",
            "!   Notify   !\n",
            "!!!!!!!!!!!!!!\n",
            "=======================================================\n",
            "SAVE PROGRESS Button Specifications:\n",
            "Button name: SAVE PROGRESS\n",
            "Number of the border characters for the top and the bottom: 25 \n",
            "Number of spaces between the left side border and the first character of the button name:5\n",
            "Number of spaces between the left side border and the first character of the button name:5\n",
            "Characters representing the borders: $\n",
            "$$$$$$$$$$$$$$$$$$$$$$$$$\n",
            "$     SAVE PROGRESS     $\n",
            "$$$$$$$$$$$$$$$$$$$$$$$$$\n"
          ]
        }
      ]
    },
    {
      "cell_type": "code",
      "source": [
        "#TASK07 REAL\n",
        "class buttons:\n",
        "  def __init__(self,word,spaces,border):\n",
        "    self.word = word\n",
        "    self.spaces = spaces\n",
        "    self.border = border\n",
        "    print(f\"{word} Button Specifications:\")\n",
        "    print(f\"Button name: {word}\")\n",
        "    print(f\"Number of the border characters for the top and the bottom: {2+2*self.spaces+len(self.word)} \")\n",
        "    print(f\"Number of spaces between the left side border and the first character of the button name:{spaces}\")\n",
        "    print(f\"Number of spaces between the left side border and the first character of the button name:{spaces}\")\n",
        "    print(f\"Characters representing the borders: {border}\")\n",
        "    print()\n",
        "    print(self.border*(1+self.spaces+len(self.word)+self.spaces+1))\n",
        "    print(self.border+\" \"*self.spaces+self.word+self.spaces*\" \"+self.border)\n",
        "    print(self.border*(1+self.spaces+len(self.word)+self.spaces+1))\n",
        "\n",
        "word = \"CANCEL\"\n",
        "spaces = 10\n",
        "border = 'x'\n",
        "b1 = buttons(word, spaces, border)\n",
        "print(\"=======================================================\")\n",
        "b2 = buttons(\"Notify\",3, '!')\n",
        "print(\"=======================================================\")\n",
        "b3 = buttons('SAVE PROGRESS', 5, '$')"
      ],
      "metadata": {
        "colab": {
          "base_uri": "https://localhost:8080/"
        },
        "id": "5IeNx2l4PUIu",
        "outputId": "72562d79-8fe1-4583-b55a-ca1f8837f808"
      },
      "execution_count": null,
      "outputs": [
        {
          "output_type": "stream",
          "name": "stdout",
          "text": [
            "CANCEL Button Specifications:\n",
            "Button name: CANCEL\n",
            "Number of the border characters for the top and the bottom: 28 \n",
            "Number of spaces between the left side border and the first character of the button name:10\n",
            "Number of spaces between the left side border and the first character of the button name:10\n",
            "Characters representing the borders: x\n",
            "\n",
            "xxxxxxxxxxxxxxxxxxxxxxxxxxxx\n",
            "x          CANCEL          x\n",
            "xxxxxxxxxxxxxxxxxxxxxxxxxxxx\n",
            "=======================================================\n",
            "Notify Button Specifications:\n",
            "Button name: Notify\n",
            "Number of the border characters for the top and the bottom: 14 \n",
            "Number of spaces between the left side border and the first character of the button name:3\n",
            "Number of spaces between the left side border and the first character of the button name:3\n",
            "Characters representing the borders: !\n",
            "\n",
            "!!!!!!!!!!!!!!\n",
            "!   Notify   !\n",
            "!!!!!!!!!!!!!!\n",
            "=======================================================\n",
            "SAVE PROGRESS Button Specifications:\n",
            "Button name: SAVE PROGRESS\n",
            "Number of the border characters for the top and the bottom: 25 \n",
            "Number of spaces between the left side border and the first character of the button name:5\n",
            "Number of spaces between the left side border and the first character of the button name:5\n",
            "Characters representing the borders: $\n",
            "\n",
            "$$$$$$$$$$$$$$$$$$$$$$$$$\n",
            "$     SAVE PROGRESS     $\n",
            "$$$$$$$$$$$$$$$$$$$$$$$$$\n"
          ]
        }
      ]
    },
    {
      "cell_type": "code",
      "source": [
        "#TASK08\n",
        "class Calculator:\n",
        "  def __init__(self,Value1,Operator,Value2):\n",
        "    self.Value1 = Value1\n",
        "    self.Operator = Operator\n",
        "    self.Value2 = Value2\n",
        "\n",
        "    print(\"Lets Calculate!\")\n",
        "    print(\"Value1 : \",Value1)\n",
        "    print(\"Operator :\",Operator)\n",
        "    print(\"Value2 : \",Value2)\n",
        "    if Operator == \"+\":\n",
        "      Calculator.add(Value1,Value2)\n",
        "    elif Operator == \"-\":\n",
        "      Calculator.subtract(Value1,Value2)\n",
        "    elif Operator == \"*\":\n",
        "      Calculator.multiply(Value1,Value2)\n",
        "    elif Operator == \"/\":\n",
        "      Calculator.divide(Value1,Value2)\n",
        "\n",
        "\n",
        "  def add(self):\n",
        "     print(\"Result : \",self.Value1+self.Value2)\n",
        "  def subtract(self):\n",
        "    print(\"Result : \",self.Value1-self.Value2)\n",
        "  def multiply(self):\n",
        "    print(\"Result : \",self.Value1*self.Value2)\n",
        "  def divide(self):\n",
        "    if self.Value2 == 0:\n",
        "      print(\"Result : MATH ERROR\")\n",
        "    else:\n",
        "      print(\"Result : \",self.Value1/self.Value2)\n",
        "\n",
        "Value1 = int(input())\n",
        "Operator = input()\n",
        "Value2 = int(input())\n",
        "calc =Calculator(Value1,Operator,Value2)\n"
      ],
      "metadata": {
        "colab": {
          "base_uri": "https://localhost:8080/"
        },
        "id": "x70G19M-Pwiy",
        "outputId": "8a5497d9-cb4f-46f5-fed6-3c4223988e47"
      },
      "execution_count": null,
      "outputs": [
        {
          "output_type": "stream",
          "name": "stdout",
          "text": [
            "5\n",
            "/\n",
            "0\n",
            "Lets Calculate!\n",
            "Value1 :  5\n",
            "Operator : /\n",
            "Value2 :  0\n",
            "Result : MATH ERROR\n"
          ]
        }
      ]
    },
    {
      "cell_type": "code",
      "source": [
        "#TASK09\n",
        "class Patient:\n",
        "  def __init__(self,name,age,weight,height):\n",
        "    self.name = name\n",
        "    self.age = age\n",
        "    self.weight = weight\n",
        "    self.height = height\n",
        "\n",
        "  def printDetails(self):\n",
        "    print(\"Name: \",self.name)\n",
        "    print(\"Age: \",self.age)\n",
        "    print(\"Weight: \",self.weight,\" kg\")\n",
        "    print(\"Height: \",self.height,\" cm\")\n",
        "    print(\"BMI: \",self.weight/(self.height/100)**2)\n",
        "\n",
        "p1 = Patient(\"A\", 55, 63.0, 158.0)\n",
        "p1.printDetails()\n",
        "print(\"====================\")\n",
        "p2 = Patient(\"B\", 53, 61.0, 149.0)\n",
        "p2.printDetails()\n",
        "\n"
      ],
      "metadata": {
        "id": "uA-We0iL3IfX"
      },
      "execution_count": null,
      "outputs": []
    },
    {
      "cell_type": "code",
      "source": [
        "#TASK10\n",
        "\n",
        "class Vehicle:\n",
        "    def __init__(self):\n",
        "        self.X = 0\n",
        "        self.Y = 0\n",
        "\n",
        "    def moveUp(self):\n",
        "        self.Y += 1\n",
        "\n",
        "    def moveDown(self):\n",
        "        self.Y -= 1\n",
        "\n",
        "    def moveRight(self):\n",
        "        self.X += 1\n",
        "\n",
        "    def moveLeft(self):\n",
        "        self.X -= 1\n",
        "\n",
        "    def print_position(self):\n",
        "        print(f\"({self.X}, {self.Y})\")\n",
        "\n",
        "\n",
        "car = Vehicle()\n",
        "car.print_position()\n",
        "car.moveUp()\n",
        "car.print_position()\n",
        "car.moveLeft()\n",
        "car.print_position()\n",
        "car.moveDown()\n",
        "car.print_position()\n",
        "car.moveRight()"
      ],
      "metadata": {
        "colab": {
          "base_uri": "https://localhost:8080/"
        },
        "id": "swc-Q6RwT_Oi",
        "outputId": "dc161b9e-ac51-45d5-b790-c1f4b7430b7d"
      },
      "execution_count": null,
      "outputs": [
        {
          "output_type": "stream",
          "name": "stdout",
          "text": [
            "(0, 0)\n",
            "(0, 1)\n",
            "(-1, 1)\n",
            "(-1, 0)\n"
          ]
        }
      ]
    },
    {
      "cell_type": "code",
      "source": [
        "#TASK11\n",
        "class Shape:\n",
        "  def __init__(self,shape,base,height):\n",
        "    self.shape = shape\n",
        "    self.base = base\n",
        "    self.height = height\n",
        "\n",
        "\n",
        "\n",
        "\n",
        "\n",
        "  def area(self):\n",
        "    if self.shape==\"Triangle\"or self.shape==\"Rhombus\":\n",
        "\n",
        "      print(f\"Area : {self.base*self.height*.5}\")\n",
        "\n",
        "    elif self.shape==\"Rectangle\"  or self.shape==\"Square\":\n",
        "\n",
        "      print(\"Area : \",self.base*self.height)\n",
        "\n",
        "    else:\n",
        "\n",
        "      print(\"Area: Shape unknown \")\n",
        "\n",
        "\n",
        "\n",
        "triangle = Shape(\"Triangle\",10,25)\n",
        "triangle.area()\n",
        "print(\"==========================\")\n",
        "square = Shape(\"Square\",10,10)\n",
        "square.area()\n",
        "print(\"==========================\")\n",
        "rhombus = Shape(\"Rhombus\",18,25)\n",
        "rhombus.area()\n",
        "print(\"==========================\")\n",
        "rectangle = Shape(\"Rectangle\",15,30)\n",
        "rectangle.area()\n",
        "print(\"==========================\")\n",
        "trapezium = Shape(\"Trapezium\",15,30)\n",
        "trapezium.area()\n",
        "\n",
        "\n"
      ],
      "metadata": {
        "colab": {
          "base_uri": "https://localhost:8080/"
        },
        "id": "gGnFyQnB5cd8",
        "outputId": "92e2319f-0dc0-4781-89a2-525fc2dba5b3"
      },
      "execution_count": null,
      "outputs": [
        {
          "output_type": "stream",
          "name": "stdout",
          "text": [
            "Area : 125.0\n",
            "==========================\n",
            "Area :  100\n",
            "==========================\n",
            "Area : 225.0\n",
            "==========================\n",
            "Area :  450\n",
            "==========================\n",
            "Area: Shape unknown \n"
          ]
        }
      ]
    },
    {
      "cell_type": "code",
      "source": [
        "#TASK12\n",
        "\n",
        "class Calculator:\n",
        "  def __init__(self):\n",
        "    print(\"Calculator is ready!\")\n",
        "\n",
        "  def calculate(self,value1,value2,Operator):\n",
        "    self.value1 = value1\n",
        "    self.Operator = Operator\n",
        "    self.value2 = value2\n",
        "\n",
        "    if self.Operator == \"+\":\n",
        "      return self.value1+self.value2\n",
        "    elif Operator == \"-\":\n",
        "      return self.value1-self.value2\n",
        "    elif Operator == \"*\":\n",
        "      return self.value1*self.value2\n",
        "    elif Operator == \"/\":\n",
        "      if self.value2 == 0:\n",
        "        return \"MATH ERROR\"\n",
        "      else:\n",
        "        return self.value1/self.value2\n",
        "\n",
        "\n",
        "  def showCalculation(self):\n",
        "    print(f\"{self.value1} {self.Operator} {self.value2} = {Calculator.calculate(self,self.value1,self.value2,self.Operator)}\")\n",
        "\n",
        "\n",
        "c1 = Calculator()\n",
        "print(\"==================\")\n",
        "val = c1.calculate(10, 20, '+')\n",
        "print(\"Returned value:\", val)\n",
        "c1.showCalculation()\n",
        "print(\"==================\")\n",
        "val = c1.calculate(val, 10, '-')\n",
        "print(\"Returned value:\", val)\n",
        "c1.showCalculation()\n",
        "print(\"==================\")\n",
        "val = c1.calculate(val, 5, '*')\n",
        "print(\"Returned value:\", val)\n",
        "c1.showCalculation()\n",
        "print(\"==================\")\n",
        "val = c1.calculate(val, 16, '/')\n",
        "print(\"Returned value:\", val)\n",
        "c1.showCalculation()\n",
        "\n"
      ],
      "metadata": {
        "colab": {
          "base_uri": "https://localhost:8080/"
        },
        "id": "pmt2HoA1CBkW",
        "outputId": "720762aa-1732-427b-92d4-437bab21e52c"
      },
      "execution_count": null,
      "outputs": [
        {
          "output_type": "stream",
          "name": "stdout",
          "text": [
            "Calculator is ready!\n",
            "==================\n",
            "Returned value: 30\n",
            "10 + 20 = 30\n",
            "==================\n",
            "Returned value: 20\n",
            "30 - 10 = 20\n",
            "==================\n",
            "Returned value: 100\n",
            "20 * 5 = 100\n",
            "==================\n",
            "Returned value: 6.25\n",
            "100 / 16 = 6.25\n"
          ]
        }
      ]
    },
    {
      "cell_type": "code",
      "source": [
        "#TASK13\n",
        "class Programmer:\n",
        "  def __init__(self,name,language,exp):\n",
        "    self.name = name\n",
        "    self.language = language\n",
        "    self.exp = exp\n",
        "    print(\"Horray! A new programmer is born\")\n",
        "\n",
        "  def printDetails(self):\n",
        "    print(\"Name: \",self.name)\n",
        "    print(\"Language: \",self.language)\n",
        "    print(\"experience: \",self.exp,\" years.\")\n",
        "\n",
        "  def addExp(self,year):\n",
        "    print(f\"Updating experience of {self.name}\")\n",
        "    self.exp += year\n",
        "\n",
        "p1 = Programmer(\"Ethen Hunt\", \"Java\", 10)\n",
        "p1.printDetails()\n",
        "print('--------------------------')\n",
        "p2 = Programmer(\"James Bond\", \"C++\", 7)\n",
        "p2.printDetails()\n",
        "print('--------------------------')\n",
        "p3 = Programmer(\"Jon Snow\", \"Python\", 4)\n",
        "p3.printDetails()\n",
        "p3.addExp(5)\n",
        "p3.printDetails()\n",
        "\n",
        "\n",
        "\n",
        "\n"
      ],
      "metadata": {
        "colab": {
          "base_uri": "https://localhost:8080/"
        },
        "id": "Vf358TaGDyTM",
        "outputId": "57041cf4-2451-4e59-b675-b2aa29ec3212"
      },
      "execution_count": null,
      "outputs": [
        {
          "output_type": "stream",
          "name": "stdout",
          "text": [
            "Horray! A new programmer is born\n",
            "Name:  Ethen Hunt\n",
            "Language:  Java\n",
            "experience:  10  years.\n",
            "--------------------------\n",
            "Horray! A new programmer is born\n",
            "Name:  James Bond\n",
            "Language:  C++\n",
            "experience:  7  years.\n",
            "--------------------------\n",
            "Horray! A new programmer is born\n",
            "Name:  Jon Snow\n",
            "Language:  Python\n",
            "experience:  4  years.\n",
            "Updating experience of Jon Snow\n",
            "Name:  Jon Snow\n",
            "Language:  Python\n",
            "experience:  9  years.\n"
          ]
        }
      ]
    }
  ]
}
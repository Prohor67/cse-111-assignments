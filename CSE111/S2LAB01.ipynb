{
  "cells": [
    {
      "cell_type": "markdown",
      "metadata": {
        "id": "sn4cHicByfj0"
      },
      "source": [
        "STRING"
      ]
    },
    {
      "cell_type": "code",
      "execution_count": null,
      "metadata": {
        "colab": {
          "base_uri": "https://localhost:8080/"
        },
        "id": "021B0Go6wQCD",
        "outputId": "eb8a07e1-1733-477d-8250-133a5057c17d"
      },
      "outputs": [
        {
          "name": "stdout",
          "output_type": "stream",
          "text": [
            "BaNaNa\n",
            "banana\n"
          ]
        }
      ],
      "source": [
        "#TASK01\n",
        "word = input()\n",
        "upper = 0\n",
        "lower = 0\n",
        "for i in word:\n",
        "  if 65<=ord(i)<=90:\n",
        "    upper+=1\n",
        "  elif 97<=ord(i)<=122:\n",
        "    lower+=1\n",
        "if lower<upper:\n",
        "  print(word.upper())\n",
        "else:\n",
        "  print(word.lower())\n",
        "\n",
        "\n"
      ]
    },
    {
      "cell_type": "code",
      "execution_count": null,
      "metadata": {
        "colab": {
          "base_uri": "https://localhost:8080/"
        },
        "id": "v5ta_L8JyCYs",
        "outputId": "94a6c7e5-eb99-4bff-cb11-7fa14af52845"
      },
      "outputs": [
        {
          "name": "stdout",
          "output_type": "stream",
          "text": [
            "142141\\\n",
            "NUMBER\n"
          ]
        }
      ],
      "source": [
        "#TASK02(NOT PREFER - STRING CHCEK)\n",
        "word = input()\n",
        "word_type1 = ''\n",
        "word_type2 = ''\n",
        "word_type3 = ''\n",
        "\n",
        "for i in word:\n",
        "  if 97<=ord(i)<122 or 65<=ord(i)<=90:\n",
        "     word_type1 = \"WORD\"\n",
        "  elif 48<=ord(i)<57:\n",
        "     word_type2 = \"NUMBER\"\n",
        "  if word_type1 == \"WORD\" and word_type2 == \"NUMBER\":\n",
        "    word_type3 = \"MIXED\"\n",
        "if word_type1==\"WORD\" and word_type2 != \"NUMBER\":\n",
        "  print(word_type1)\n",
        "elif word_type2==\"NUMBER\" and word_type1 != \"WORD\":\n",
        "  print(word_type2)\n",
        "else:\n",
        "  print(word_type3)\n",
        "\n"
      ]
    },
    {
      "cell_type": "code",
      "execution_count": null,
      "metadata": {
        "colab": {
          "base_uri": "https://localhost:8080/"
        },
        "id": "heVogKtb3uB7",
        "outputId": "9fc431c7-389d-415f-d856-8887beb9fc5b"
      },
      "outputs": [
        {
          "name": "stdout",
          "output_type": "stream",
          "text": [
            "1312314\n",
            "NUMBER\n"
          ]
        }
      ],
      "source": [
        "#TASK02(LAB)\n",
        "string = input()\n",
        "number = 0\n",
        "word = 0\n",
        "for i in string:\n",
        "  if 97<=ord(i)<=122 or 65<=ord(i)<=90:\n",
        "    word+=1\n",
        "  elif 48<=ord(i)<=57:\n",
        "    number+=1\n",
        "if number == 0:\n",
        "  print(\"WORD\")\n",
        "elif word == 0:\n",
        "  print(\"NUMBER\")\n",
        "else:\n",
        "  print(\"MIXED\")\n",
        "\n",
        "\n"
      ]
    },
    {
      "cell_type": "code",
      "execution_count": null,
      "metadata": {
        "colab": {
          "base_uri": "https://localhost:8080/"
        },
        "id": "3W1Hh0Cf1W3q",
        "outputId": "421df48c-ef24-4ce9-adf8-439d183ec0f0"
      },
      "outputs": [
        {
          "name": "stdout",
          "output_type": "stream",
          "text": [
            "bRAd\n",
            "BLANK\n"
          ]
        }
      ],
      "source": [
        "#TASK03(USED LIST - NOT PREFERABLE)\n",
        "word = input()\n",
        "length = len(word)\n",
        "index = []\n",
        "\n",
        "for i in range(length):\n",
        "  if 65<=ord(word[i])<=90:\n",
        "    index.append(i)\n",
        "first = index[0]\n",
        "second = index[1]\n",
        "if second - first == 1:\n",
        "  print(\"BLANK\")\n",
        "else:\n",
        "  print(word[first+1:second])"
      ]
    },
    {
      "cell_type": "code",
      "execution_count": null,
      "metadata": {
        "colab": {
          "base_uri": "https://localhost:8080/"
        },
        "id": "rZvp74C04gyI",
        "outputId": "eda60f23-df90-4808-9a2c-4ffae53eb966"
      },
      "outputs": [
        {
          "name": "stdout",
          "output_type": "stream",
          "text": [
            "gLAd\n",
            "BLANK\n"
          ]
        }
      ],
      "source": [
        "#TASK03(LAB)\n",
        "word = input()\n",
        "length = len(word)\n",
        "first = 0\n",
        "second = 0\n",
        "for i in range(length):\n",
        "  if 65<=ord(word[i])<=90 and first==0:\n",
        "    first = i\n",
        "  elif 65<=ord(word[i])<=90 and first !=0:\n",
        "    second = i\n",
        "if second - first == 1:\n",
        "  print(\"BLANK\")\n",
        "else:\n",
        "  print(word[first+1:second])\n",
        "\n",
        ""
      ]
    },
    {
      "cell_type": "code",
      "source": [
        "#TASK04\n",
        "word1 = \"dog\"\n",
        "word2 = \"cat\"\n",
        "chosen_word1 = \"\"\n",
        "chosen_word2 = \"\"\n",
        "chosen_word = \"\"\n",
        "for i in word1:\n",
        "  if i in word2:\n",
        "    chosen_word1+=i\n",
        "  else:\n",
        "    pass\n",
        "for j in word2:\n",
        "  if j in word1:\n",
        "    chosen_word2+=j\n",
        "  else:\n",
        "    pass\n",
        "chosen_word = chosen_word1+chosen_word2\n",
        "if chosen_word == \"\":\n",
        "  print(\"Nothing in common\")\n",
        "else:\n",
        "  print(chosen_word)\n",
        "\n"
      ],
      "metadata": {
        "colab": {
          "base_uri": "https://localhost:8080/"
        },
        "id": "OZB0yxNKfU2l",
        "outputId": "247b98e9-e060-4c39-c2ac-5ab8b126910f"
      },
      "execution_count": null,
      "outputs": [
        {
          "output_type": "stream",
          "name": "stdout",
          "text": [
            "Nothing in common\n"
          ]
        }
      ]
    },
    {
      "cell_type": "code",
      "source": [
        "#TASK05\n",
        "password= input()\n",
        "digit=0\n",
        "upper=0\n",
        "lower=0\n",
        "sc=0\n",
        "res=''\n",
        "for i in password:\n",
        "  if 48<=ord(i)<=57:\n",
        "    digit+=1\n",
        "  elif 65<=ord(i)<=90:\n",
        "    upper+=1\n",
        "  elif 97<=ord(i)<=122:\n",
        "    lower+=1\n",
        "  elif ord(i)==35 or ord(i)==36 or ord(i)==64 or ord(i)==95:\n",
        "    sc+=1\n",
        "if digit==0:\n",
        "    res+='Digit Missing'\n",
        "if upper==0:\n",
        "  if len(res)==0:\n",
        "    res+='Uppercase Character Missing'\n",
        "  else:\n",
        "    res+=', Uppercase Character Missing'\n",
        "if lower==0:\n",
        "  if len(res)==0:\n",
        "    res+='Lowercase Character Missing'\n",
        "  else:\n",
        "    res+=', Lowercase Character Missing'\n",
        "if sc==0:\n",
        "  if len(res)==0:\n",
        "    res+='Special Character Missing'\n",
        "  else:\n",
        "    res+=', Special Character Missing'\n",
        "if len(res)==0:\n",
        "    print('OK')\n",
        "else:\n",
        "    print(res)\n",
        "\n"
      ],
      "metadata": {
        "colab": {
          "base_uri": "https://localhost:8080/"
        },
        "id": "B2bB82tGhQ_A",
        "outputId": "0b80f50f-635e-470d-80c5-4e4578e04ce7"
      },
      "execution_count": null,
      "outputs": [
        {
          "output_type": "stream",
          "name": "stdout",
          "text": [
            "@ww\n",
            "Digit Missing, Uppercase Character Missing\n"
          ]
        }
      ]
    },
    {
      "cell_type": "markdown",
      "metadata": {
        "id": "hWntxHIK70Zy"
      },
      "source": [
        "LIST\n"
      ]
    },
    {
      "cell_type": "code",
      "execution_count": null,
      "metadata": {
        "colab": {
          "base_uri": "https://localhost:8080/"
        },
        "id": "TbgiyqmE72rL",
        "outputId": "9e0ca00d-8f41-4581-88bf-9f9c623c37e5"
      },
      "outputs": [
        {
          "output_type": "stream",
          "name": "stdout",
          "text": [
            "3\n",
            "1\n",
            "2\n",
            "3\n",
            "STOP\n",
            "3 - 2 times\n",
            "1 - 1 times\n",
            "2 - 1 times\n",
            "3 - 2 times\n"
          ]
        }
      ],
      "source": [
        "#TASK01(count operator not preferable)\n",
        "list1=[]\n",
        "word = ''\n",
        "while word != \"STOP\":\n",
        "  word = input()\n",
        "  if word != 'STOP':\n",
        "    list1.append(word)\n",
        "for i in list1:\n",
        "  print(f\"{i} - {list1.count(i)} times\")"
      ]
    },
    {
      "cell_type": "code",
      "execution_count": null,
      "metadata": {
        "colab": {
          "base_uri": "https://localhost:8080/"
        },
        "id": "QBajdQcC-LGg",
        "outputId": "73bfc6d9-bc79-4277-fdb9-b32ed94d2be8"
      },
      "outputs": [
        {
          "name": "stdout",
          "output_type": "stream",
          "text": [
            "10\n",
            "20\n",
            "10\n",
            "20\n",
            "30\n",
            "50\n",
            "50\n",
            "90\n",
            "STOP\n",
            "10 - 2 times\n",
            "20 - 2 times\n",
            "30 - 1 times\n",
            "50 - 2 times\n",
            "90 - 1 times\n"
          ]
        }
      ],
      "source": [
        "#TASK01(LAB)\n",
        "list1=[]\n",
        "list2 = []\n",
        "counter = 0\n",
        "word = ''\n",
        "while word != \"STOP\":\n",
        "  word = input()\n",
        "  if word != 'STOP':\n",
        "    list1.append(word)\n",
        "for i in list1:\n",
        "  if i not in list2:\n",
        "    list2.append(i)\n",
        "for i in list2:\n",
        "  for j in list1:\n",
        "    if i == j:\n",
        "      counter+=1\n",
        "\n",
        "  print(f\"{i} - {counter} times\")\n",
        "  counter = 0\n"
      ]
    },
    {
      "cell_type": "code",
      "execution_count": null,
      "metadata": {
        "colab": {
          "base_uri": "https://localhost:8080/"
        },
        "id": "2XcsNhAn_Whf",
        "outputId": "0336c362-4da8-436e-ea53-d33d640ddbf4"
      },
      "outputs": [
        {
          "output_type": "stream",
          "name": "stdout",
          "text": [
            "2\n",
            "1 2 3\n",
            "2 4 5\n",
            "11\n",
            "[2, 4, 5]\n"
          ]
        }
      ],
      "source": [
        "#TASK02\n",
        "N = int(input())\n",
        "list1 = []\n",
        "for i in range(N):\n",
        "  num = input().split(\" \")\n",
        "  for j in range(len(num)):\n",
        "    num[j]=int(num[j])\n",
        "  list1.append((num))\n",
        "max = 0\n",
        "maxlist = 0\n",
        "add = 0\n",
        "for i in list1:\n",
        "  for j in i:\n",
        "    add+=j\n",
        "  if add>max:\n",
        "    max = add\n",
        "    maxlist =i\n",
        "    add = 0\n",
        "print(max)\n",
        "print(maxlist)\n"
      ]
    },
    {
      "cell_type": "code",
      "execution_count": null,
      "metadata": {
        "colab": {
          "base_uri": "https://localhost:8080/"
        },
        "id": "B-DOWUQ_CabG",
        "outputId": "e66669e0-0ec8-45d2-d043-8628c0219158"
      },
      "outputs": [
        {
          "output_type": "stream",
          "name": "stdout",
          "text": [
            "3 4 5 6 7\n",
            "4 5 6 7 8\n",
            "[12, 15, 18, 21, 24, 16, 20, 24, 28, 32, 20, 25, 30, 35, 40, 24, 30, 36, 42, 48, 28, 35, 42, 49, 56]\n"
          ]
        }
      ],
      "source": [
        "#TASK03(EXTRA)\n",
        "list1 = []\n",
        "list2 = []\n",
        "for i in range(2):\n",
        "  num = input().split(\" \")\n",
        "  list1.append((num))\n",
        "for i in list1[0]:\n",
        "  for j in list1[1]:\n",
        "     list2.append(int(i)*int(j))\n",
        "print(list2)\n",
        "\n",
        "\n",
        "\n",
        "\n"
      ]
    },
    {
      "cell_type": "code",
      "execution_count": null,
      "metadata": {
        "colab": {
          "base_uri": "https://localhost:8080/"
        },
        "id": "oyJh8S2wE8fA",
        "outputId": "3880fbe9-f7ac-4ce2-fc69-736925ccce93"
      },
      "outputs": [
        {
          "name": "stdout",
          "output_type": "stream",
          "text": [
            "[4, 5, 6, 8, 10, 12, 12, 15, 18]\n"
          ]
        }
      ],
      "source": [
        "#TASK03(LAB)\n",
        "A = [1,2,3]\n",
        "B = [4,5,6]\n",
        "list3=[]\n",
        "for i in A:\n",
        "  for j in B:\n",
        "    list3.append(i*j)\n",
        "print(list3)\n",
        ""
      ]
    },
    {
      "cell_type": "code",
      "source": [
        "#TASK04:\n",
        "NUM = 0\n",
        "list1 = []\n",
        "list2 = []\n",
        "res = \"\"\n",
        "while NUM != [\"STOP\"]:\n",
        "  NUM = input().split(\" \")\n",
        "  if NUM == [\"STOP\"]:\n",
        "    break\n",
        "  for i in range(len(NUM)):\n",
        "    NUM[i]=int(NUM[i])\n",
        "\n",
        "  for i in range(len(NUM)-1):\n",
        "    sub = abs(NUM[i]-NUM[i+1])\n",
        "    list2.append(sub)\n",
        "  for i in list2:\n",
        "    if i>len(NUM)-1:\n",
        "      res = \"NOT AN UB JUMPER\"\n",
        "      break\n",
        "    else:\n",
        "      res = \"UB JUMPER\"\n",
        "  print(res)"
      ],
      "metadata": {
        "id": "pv27w_KpqvSx",
        "colab": {
          "base_uri": "https://localhost:8080/"
        },
        "outputId": "dc25734b-d071-40e9-abf5-7789b5183279"
      },
      "execution_count": null,
      "outputs": [
        {
          "output_type": "stream",
          "name": "stdout",
          "text": [
            "2 3 4 7 8\n",
            "UB JUMPER\n",
            "STOP\n",
            "NOT AN UB JUMPER\n"
          ]
        }
      ]
    },
    {
      "cell_type": "code",
      "execution_count": null,
      "metadata": {
        "id": "DKDA33fFL8k5"
      },
      "outputs": [],
      "source": [
        "#TASK05\n",
        "n = int(input())\n",
        "k = int(input())\n",
        "list1 = []\n",
        "for i in range(n):\n",
        "  num = int(input())\n",
        "  if num+k <= 5:\n",
        "    list1.append(num)\n",
        "print(len(list1)//3)\n",
        "\n"
      ]
    },
    {
      "cell_type": "markdown",
      "metadata": {
        "id": "V6ZSlwMwNreI"
      },
      "source": [
        "Dictionary"
      ]
    },
    {
      "cell_type": "code",
      "execution_count": null,
      "metadata": {
        "colab": {
          "base_uri": "https://localhost:8080/"
        },
        "id": "_Zp16m3MNvdA",
        "outputId": "011d74a0-8461-4f13-e6f9-41950216f56f"
      },
      "outputs": [
        {
          "output_type": "stream",
          "name": "stdout",
          "text": [
            "a: 300, b: 200, d: 400, e: 200, a: 300, b: 200, d: 400, e: 200\n",
            "{'a': 600, 'b': 400, 'd': 800, 'e': 400}\n",
            "(400, 400, 600, 800)\n"
          ]
        }
      ],
      "source": [
        "#TASK01\n",
        "word = input().split(\",\")\n",
        "keys = []\n",
        "values = []\n",
        "dict1 = {}\n",
        "list_values = []\n",
        "for i in range(len(word)):\n",
        "  word[i] = word[i].lstrip()\n",
        "for i in range(len(word)):\n",
        "  main = word[i].split(\":\")\n",
        "  keys.append(main[0])\n",
        "  values.append(main[1])\n",
        "for i in range(len(values)):\n",
        "  values[i] = values[i].lstrip()\n",
        "for i in range(len(keys)):\n",
        "  if keys[i] in dict1:\n",
        "    dict1[keys[i]] = int(values[i-4])+int(values[i])\n",
        "  else:\n",
        "    dict1[keys[i]] = int(values[i])\n",
        "for i in dict1:\n",
        "  list_values.append(dict1[i])\n",
        "\n",
        "list_values.sort()\n",
        "print(dict1)\n",
        "print(tuple(list_values))"
      ]
    },
    {
      "cell_type": "code",
      "source": [
        "#TASK02\n",
        "dict1 ={}\n",
        "num = 0\n",
        "while num!= \"STOP\":\n",
        "  num = input()\n",
        "  if num == \"STOP\":\n",
        "    break\n",
        "  num = int(num)\n",
        "  if num in dict1:\n",
        "    dict1[num] += 1\n",
        "  else:\n",
        "    dict1[num] = 1\n",
        "for i in dict1:\n",
        "  print(f\"{i} - {dict1[i]} times\")"
      ],
      "metadata": {
        "colab": {
          "base_uri": "https://localhost:8080/"
        },
        "id": "hE11GIGI0Q72",
        "outputId": "3040ff7c-36db-40c7-a651-a302e6eeb0f7"
      },
      "execution_count": null,
      "outputs": [
        {
          "output_type": "stream",
          "name": "stdout",
          "text": [
            "10\n",
            "20\n",
            "20\n",
            "30\n",
            "50\n",
            "90\n",
            "10\n",
            "STOP\n",
            "10 - 2 times2\n",
            "20 - 2 times2\n",
            "30 - 1 times2\n",
            "50 - 1 times2\n",
            "90 - 1 times2\n"
          ]
        }
      ]
    },
    {
      "cell_type": "code",
      "source": [
        "#TASK03\n",
        "word = input().split(\",\")\n",
        "dict1 = {}\n",
        "for i in word:\n",
        "  new = i.split(\":\")\n",
        "  new[0] = new[0].strip()\n",
        "  new[1] = new[1].lstrip()\n",
        "  dict1[new[0]] = new[1]\n",
        "new_dict ={}\n",
        "for value in dict1.values():\n",
        "  if value not in new_dict:\n",
        "    list1 = []\n",
        "    for i in dict1:\n",
        "      if dict1[i] == value:\n",
        "        list1.append(i)\n",
        "    new_dict[value] = list1\n",
        "print(new_dict)\n",
        "\n",
        "\n",
        "\n",
        "\n",
        "\n"
      ],
      "metadata": {
        "colab": {
          "base_uri": "https://localhost:8080/"
        },
        "id": "3yM-oHLqB6tC",
        "outputId": "b04481ed-3b7a-46ee-dec0-18a1a4695c82"
      },
      "execution_count": null,
      "outputs": [
        {
          "output_type": "stream",
          "name": "stdout",
          "text": [
            "key1 : value1, key2 : value2, key3 : value1\n",
            "{'value1': ['key1', 'key3'], 'value2': ['key2']}\n"
          ]
        }
      ]
    },
    {
      "cell_type": "code",
      "source": [
        "#TASK04\n",
        "dict1 = {1:('.',',','?','!',':'),2:('A','B','C'),3:('D','E','F'),4:('G','H','I'),5:('J','K','L'),6:('M','N','O'),7:('P','Q','R','S'),8:('T','U','V'),9:('W','X','Y','Z'),0:(\" \")}\n",
        "word = input().upper()\n",
        "res = \"\"\n",
        "for i in word:\n",
        "  for j in dict1:\n",
        "    for k in dict1[j]:\n",
        "      if i == k:\n",
        "        for x in range(dict1[j].index(k)+1):\n",
        "          res+=str(j)\n",
        "print(int(res))\n",
        "\n",
        "\n"
      ],
      "metadata": {
        "colab": {
          "base_uri": "https://localhost:8080/"
        },
        "id": "O8B3pQxI8CZ8",
        "outputId": "1f7e37c1-54bf-448c-8d19-e4d3d0c1194f"
      },
      "execution_count": null,
      "outputs": [
        {
          "output_type": "stream",
          "name": "stdout",
          "text": [
            "Hello, World!\n",
            "4433555555666110966677755531111\n"
          ]
        }
      ]
    }
  ],
  "metadata": {
    "colab": {
      "provenance": []
    },
    "kernelspec": {
      "display_name": "Python 3",
      "name": "python3"
    },
    "language_info": {
      "name": "python"
    }
  },
  "nbformat": 4,
  "nbformat_minor": 0
}
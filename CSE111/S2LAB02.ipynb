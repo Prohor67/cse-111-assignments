{
  "nbformat": 4,
  "nbformat_minor": 0,
  "metadata": {
    "colab": {
      "provenance": []
    },
    "kernelspec": {
      "name": "python3",
      "display_name": "Python 3"
    },
    "language_info": {
      "name": "python"
    }
  },
  "cells": [
    {
      "cell_type": "code",
      "execution_count": null,
      "metadata": {
        "colab": {
          "base_uri": "https://localhost:8080/"
        },
        "id": "uhNVgANZa6ud",
        "outputId": "2d9fe966-051f-4668-cada-e734437a258c"
      },
      "outputs": [
        {
          "output_type": "stream",
          "name": "stdout",
          "text": [
            "0.3\n"
          ]
        }
      ],
      "source": [
        "#TASK01\n",
        "def division(num1, num2):\n",
        "  if num2 == 0:\n",
        "    return 0\n",
        "  elif num1==0:\n",
        "    return 0\n",
        "  else:\n",
        "    return round((num1/num2)-(num1//num2),1)\n",
        "\n",
        "print(division(7,3))\n"
      ]
    },
    {
      "cell_type": "code",
      "source": [
        "#TASK02\n",
        "def BMI(height,weight):\n",
        "  bmi = round(weight/(height/100)**2,1)\n",
        "  if 0<= bmi <18.5:\n",
        "    print(f\"Score is {bmi}.You are Underweight\")\n",
        "  elif 18.5<= bmi <=24.9:\n",
        "    print(f\"Score is {bmi}.You are Normal\")\n",
        "  elif 25<= bmi <=30 :\n",
        "    print(f\"Score is {bmi}.You are Overweight\")\n",
        "  elif 30 < bmi:\n",
        "    print(f\"Score is {bmi}.You are Obese\")\n",
        "\n",
        "BMI(180,68)\n"
      ],
      "metadata": {
        "colab": {
          "base_uri": "https://localhost:8080/"
        },
        "id": "OSTmmegSbn7s",
        "outputId": "0d39abcf-5c05-4c41-8209-228e48c52515"
      },
      "execution_count": null,
      "outputs": [
        {
          "output_type": "stream",
          "name": "stdout",
          "text": [
            "Score is 21.0.You are Normal\n"
          ]
        }
      ]
    },
    {
      "cell_type": "code",
      "source": [
        "#TASK03\n",
        "def divide(minimum,maximum,divisor):\n",
        "  count = 0\n",
        "  for i in range(minimum,maximum):\n",
        "    if i%divisor == 0:\n",
        "      count +=i\n",
        "  return count\n",
        "\n",
        "divide(3,16,3)\n"
      ],
      "metadata": {
        "colab": {
          "base_uri": "https://localhost:8080/"
        },
        "id": "GGzkGLDifLCa",
        "outputId": "48cb4415-a1ce-4ba3-a7c5-a891c1f9b5bc"
      },
      "execution_count": null,
      "outputs": [
        {
          "output_type": "execute_result",
          "data": {
            "text/plain": [
              "45"
            ]
          },
          "metadata": {},
          "execution_count": 11
        }
      ]
    },
    {
      "cell_type": "code",
      "source": [
        "#TASK04\n",
        "def Food(item,place = \"Mohakhali\"):\n",
        "  menu = {\"BBQ Chicken Cheese Burger\":250,\"Beef Burger\":170,\"Naga Drums\":200}\n",
        "  if place == \"Mohakhali\":\n",
        "    delivery = 40\n",
        "  else:\n",
        "    delivery = 60\n",
        "  for i in menu:\n",
        "    if i == item:\n",
        "      total = menu[i]+delivery+(menu[i]*0.08)\n",
        "  print(total)\n",
        "Food(\"Beef Burger\", \"Dhanmondi\")\n"
      ],
      "metadata": {
        "colab": {
          "base_uri": "https://localhost:8080/"
        },
        "id": "vXjdhIDKfwGY",
        "outputId": "22e92eb2-c806-49c9-b454-cdd9daf3f35d"
      },
      "execution_count": null,
      "outputs": [
        {
          "output_type": "stream",
          "name": "stdout",
          "text": [
            "243.6\n"
          ]
        }
      ]
    },
    {
      "cell_type": "code",
      "source": [
        "#TASK05\n",
        "def replace_domain(email,domain,old = \"kaaj.com\"):\n",
        "  index = 0\n",
        "  for i in range(len(email)):\n",
        "    if email[i]==\"@\":\n",
        "      index = i+1\n",
        "  new = email[index:len(email)]\n",
        "  if new == domain:\n",
        "    status = \"Unchanged\"\n",
        "    mail = email\n",
        "  else:\n",
        "    status = \"Changed\"\n",
        "    mail = email[:index]+domain\n",
        "\n",
        "  return f\"{status} : {mail}\"\n",
        "\n",
        "print(replace_domain(\"bob@kaaj.com\", \"sheba.xyz\"))\n",
        "\n",
        "\n"
      ],
      "metadata": {
        "colab": {
          "base_uri": "https://localhost:8080/"
        },
        "id": "t3lRJYEyiNgy",
        "outputId": "fa1bf77d-30f5-4c3c-827d-67363a697464"
      },
      "execution_count": null,
      "outputs": [
        {
          "output_type": "stream",
          "name": "stdout",
          "text": [
            "Changed : bob@sheba.xyz\n"
          ]
        }
      ]
    },
    {
      "cell_type": "code",
      "source": [
        "#TASK06\n",
        "def vowel_check(word):\n",
        "  check = \"\"\n",
        "  count = 0\n",
        "  for i in word.lower():\n",
        "    if i == \"a\" or i==  \"e\" or i== \"i\" or i== \"o\" or i== \"u\":\n",
        "      check+=\" \"+i+\",\"\n",
        "      count+=1\n",
        "  check = check[:len(check)-1]\n",
        "  if count == 0:\n",
        "    return \"No vowels in the name\"\n",
        "  else:\n",
        "    return f\"Vowels:{check}. Total number of vowels: {count}\"\n",
        "print(vowel_check(\"AvcAe\"))\n",
        "\n"
      ],
      "metadata": {
        "colab": {
          "base_uri": "https://localhost:8080/"
        },
        "id": "DcHyeAXIpXJa",
        "outputId": "1ae7282f-fb35-466b-d68f-f9f76f81d334"
      },
      "execution_count": null,
      "outputs": [
        {
          "output_type": "stream",
          "name": "stdout",
          "text": [
            "Vowels: a, a, e. Total number of vowels: 3\n"
          ]
        }
      ]
    },
    {
      "cell_type": "code",
      "source": [
        "#TASK07\n",
        "def check_palindrome(word):\n",
        "  for i in word:\n",
        "    if i== \" \":\n",
        "      new = word.replace(\" \",\"\")\n",
        "      word = new\n",
        "\n",
        "  for i in range(len(word)):\n",
        "    if word[:len(word)]==word[-1:-len(word)-1:-1]:\n",
        "      state = \"Palindrome\"\n",
        "    else:\n",
        "      state = \"Not a palindrome\"\n",
        "      break\n",
        "  return state\n",
        "\n",
        "print(check_palindrome(\"race car\"))"
      ],
      "metadata": {
        "colab": {
          "base_uri": "https://localhost:8080/"
        },
        "id": "mwA5NDBfyhF9",
        "outputId": "3d6a4964-67c3-4145-8189-9ac46325398f"
      },
      "execution_count": null,
      "outputs": [
        {
          "output_type": "stream",
          "name": "stdout",
          "text": [
            "Palindrome\n"
          ]
        }
      ]
    },
    {
      "cell_type": "code",
      "source": [
        "#TASK08\n",
        "def year_calc(days):\n",
        "  years = days//365\n",
        "  rem_days = days % 365\n",
        "  months = rem_days//30\n",
        "  day = rem_days%30\n",
        "\n",
        "  return f\"{years} years, {months} months and {day} days\"\n",
        "print(year_calc(4320))"
      ],
      "metadata": {
        "colab": {
          "base_uri": "https://localhost:8080/"
        },
        "id": "jMPCJ9MuvQaa",
        "outputId": "1992b82b-2c5c-47a5-e1ca-91b77d2dcfa3"
      },
      "execution_count": null,
      "outputs": [
        {
          "output_type": "stream",
          "name": "stdout",
          "text": [
            "11 years, 10 months and 5 days\n"
          ]
        }
      ]
    },
    {
      "cell_type": "code",
      "source": [
        "#TASK09\n",
        "def sentence_check(string):\n",
        "  sentence = \"\"\n",
        "  list1 = []\n",
        "  for i in string:\n",
        "    if i == '.' or i==\"?\" or i==\"!\":\n",
        "      sentence += i\n",
        "      new = sentence.strip()\n",
        "      list1.append(new)\n",
        "      sentence = \"\"\n",
        "    else:\n",
        "      sentence += i\n",
        "  for i in list1:\n",
        "    for j in range(len(i)):\n",
        "      if ord(i[j])==105:\n",
        "        if i[j-1] == \".\" or i[j-1] == \"?\" or i[j-1]==\"!\":\n",
        "          if i[j+1]==\" \":\n",
        "            slc = i[0:j]+chr(ord(i[j])-32)+i[j+1:len(i)]\n",
        "            list1[list1.index(i)] = slc\n",
        "  for i in range(len(list1)):\n",
        "    if 97<=ord(list1[i][0])<=122:\n",
        "      slice1 = chr(ord(list1[i][0])-32)+list1[i][1:len(list1[i])]\n",
        "      list1[i] = slice1\n",
        "  for i in list1:\n",
        "    sentence +=i+\" \"\n",
        "  return sentence\n",
        "print(sentence_check(('my favourite animal is a dog. a dog has sharp teeth so that it can eat flesh very easily. do you know my pet dog’s name? i love my pet very much.')))\n",
        ""
      ],
      "metadata": {
        "colab": {
          "base_uri": "https://localhost:8080/"
        },
        "id": "-zYVZ1Ns4MN9",
        "outputId": "599126be-4fcf-431d-a95a-992d8bd46bda"
      },
      "execution_count": null,
      "outputs": [
        {
          "output_type": "stream",
          "name": "stdout",
          "text": [
            "My favourite animal is a dog. A dog has sharp teeth so that it can eat flesh very easily. Do you know my pet dog’s name? I love my pet very much. \n"
          ]
        }
      ]
    },
    {
      "cell_type": "code",
      "source": [
        "#Bonus\n",
        "def get_total(user):\n",
        "  new_dict = {}\n",
        "  dict1 = {'user1':[{'item':'item1','amount':400},{'item':'item2','amount':300},{'item':'item1','amount':750}],\"user2\":[{'item':'item1','amount':400},{'item':'item1','amount':750}]}\n",
        "  if user == \"user1\":\n",
        "    for i in dict1[user]:\n",
        "      for j in i:\n",
        "        if len(new_dict)!=0 and i[\"amount\"] !=300 :\n",
        "          new_dict['item1'] = new_dict[\"item1\"]+i[\"amount\"]\n",
        "          break\n",
        "        else:\n",
        "          new_dict.update({i[\"item\"]:i[\"amount\"]})\n",
        "  elif user == \"user2\":\n",
        "    for i in dict1[user]:\n",
        "      for j in i:\n",
        "        if len(new_dict)!=0 and i[\"amount\"] !=300 :\n",
        "          new_dict['item2'] = new_dict[\"item2\"]+i[\"amount\"]\n",
        "          break\n",
        "        else:\n",
        "          new_dict.update({i[\"item\"]:i[\"amount\"]})\n",
        "\n",
        "  print(new_dict)\n",
        "\n",
        "\n",
        "\n",
        "\n",
        "get_total(\"user2\")\n",
        "\n"
      ],
      "metadata": {
        "colab": {
          "base_uri": "https://localhost:8080/",
          "height": 339
        },
        "id": "Hdus60P8-ubC",
        "outputId": "fb866018-a990-45c3-c0f7-ed6596ccea4d"
      },
      "execution_count": null,
      "outputs": [
        {
          "output_type": "error",
          "ename": "KeyError",
          "evalue": "ignored",
          "traceback": [
            "\u001b[0;31m---------------------------------------------------------------------------\u001b[0m",
            "\u001b[0;31mKeyError\u001b[0m                                  Traceback (most recent call last)",
            "\u001b[0;32m<ipython-input-103-30db661ae00a>\u001b[0m in \u001b[0;36m<module>\u001b[0;34m\u001b[0m\n\u001b[1;32m     25\u001b[0m \u001b[0;34m\u001b[0m\u001b[0m\n\u001b[1;32m     26\u001b[0m \u001b[0;34m\u001b[0m\u001b[0m\n\u001b[0;32m---> 27\u001b[0;31m \u001b[0mget_total\u001b[0m\u001b[0;34m(\u001b[0m\u001b[0;34m\"user2\"\u001b[0m\u001b[0;34m)\u001b[0m\u001b[0;34m\u001b[0m\u001b[0;34m\u001b[0m\u001b[0m\n\u001b[0m\u001b[1;32m     28\u001b[0m \u001b[0;34m\u001b[0m\u001b[0m\n",
            "\u001b[0;32m<ipython-input-103-30db661ae00a>\u001b[0m in \u001b[0;36mget_total\u001b[0;34m(user)\u001b[0m\n\u001b[1;32m     15\u001b[0m       \u001b[0;32mfor\u001b[0m \u001b[0mj\u001b[0m \u001b[0;32min\u001b[0m \u001b[0mi\u001b[0m\u001b[0;34m:\u001b[0m\u001b[0;34m\u001b[0m\u001b[0;34m\u001b[0m\u001b[0m\n\u001b[1;32m     16\u001b[0m         \u001b[0;32mif\u001b[0m \u001b[0mlen\u001b[0m\u001b[0;34m(\u001b[0m\u001b[0mnew_dict\u001b[0m\u001b[0;34m)\u001b[0m\u001b[0;34m!=\u001b[0m\u001b[0;36m0\u001b[0m \u001b[0;32mand\u001b[0m \u001b[0mi\u001b[0m\u001b[0;34m[\u001b[0m\u001b[0;34m\"amount\"\u001b[0m\u001b[0;34m]\u001b[0m \u001b[0;34m!=\u001b[0m\u001b[0;36m300\u001b[0m \u001b[0;34m:\u001b[0m\u001b[0;34m\u001b[0m\u001b[0;34m\u001b[0m\u001b[0m\n\u001b[0;32m---> 17\u001b[0;31m           \u001b[0mnew_dict\u001b[0m\u001b[0;34m[\u001b[0m\u001b[0;34m'item2'\u001b[0m\u001b[0;34m]\u001b[0m \u001b[0;34m=\u001b[0m \u001b[0mnew_dict\u001b[0m\u001b[0;34m[\u001b[0m\u001b[0;34m\"item2\"\u001b[0m\u001b[0;34m]\u001b[0m\u001b[0;34m+\u001b[0m\u001b[0mi\u001b[0m\u001b[0;34m[\u001b[0m\u001b[0;34m\"amount\"\u001b[0m\u001b[0;34m]\u001b[0m\u001b[0;34m\u001b[0m\u001b[0;34m\u001b[0m\u001b[0m\n\u001b[0m\u001b[1;32m     18\u001b[0m           \u001b[0;32mbreak\u001b[0m\u001b[0;34m\u001b[0m\u001b[0;34m\u001b[0m\u001b[0m\n\u001b[1;32m     19\u001b[0m         \u001b[0;32melse\u001b[0m\u001b[0;34m:\u001b[0m\u001b[0;34m\u001b[0m\u001b[0;34m\u001b[0m\u001b[0m\n",
            "\u001b[0;31mKeyError\u001b[0m: 'item2'"
          ]
        }
      ]
    },
    {
      "cell_type": "code",
      "source": [
        "dictp = {'A':[{\"p1\":1,\"p2\":2},{\"p3\":3,\"p4\":4}],\"B\":90}\n",
        "print(dictp.values())\n",
        "\n"
      ],
      "metadata": {
        "colab": {
          "base_uri": "https://localhost:8080/"
        },
        "id": "6FV7okPhJfJk",
        "outputId": "9b660bbe-e9a9-4784-909b-fe746bc219b0"
      },
      "execution_count": null,
      "outputs": [
        {
          "output_type": "stream",
          "name": "stdout",
          "text": [
            "dict_values([[{'p1': 1, 'p2': 2}, {'p3': 3, 'p4': 4}], 90])\n"
          ]
        }
      ]
    }
  ]
}